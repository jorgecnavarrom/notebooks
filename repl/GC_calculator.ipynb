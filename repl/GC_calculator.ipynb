{
 "cells": [
  {
   "cell_type": "markdown",
   "metadata": {},
   "source": [
    "# The GC calculator\n",
    "\n",
    "I downloaded the genome of *Utricularia gibba* (humped bladderwort) from [NCBI](https://www.ncbi.nlm.nih.gov/data-hub/genome/GCA_002189035.1/) and decompressed it. The genome has one file per chromosome (e.g. \"chr1.fna\"). You can download the data for yourself to take a look!\n",
    "\n",
    "I have two goals for this code:\n",
    "* Get the label of the **chromosome** with the largest percentage of GC content\n",
    "* Calculate the GC percentage of the whole genome\n",
    "\n",
    "However, I have a couple of issues. Can you help me fix my code?\n",
    "\n"
   ]
  },
  {
   "cell_type": "code",
   "execution_count": 2,
   "metadata": {},
   "outputs": [],
   "source": [
    "from pathlib import Path"
   ]
  },
  {
   "cell_type": "markdown",
   "metadata": {},
   "source": [
    "ok, let me make sure we have the .fna files\n",
    "\n",
    "For my first goal, I have to ignore the mitochondrial, plastid and unplaced genomic data (which all end in .scaf.fna)"
   ]
  },
  {
   "cell_type": "code",
   "execution_count": 3,
   "metadata": {
    "vscode": {
     "languageId": "shellscript"
    }
   },
   "outputs": [
    {
     "name": "stdout",
     "output_type": "stream",
     "text": [
      " chr1.fna   chrMT.unlocalized.scaf.fna    'GC_calculator fixed.ipynb'\n",
      " chr2.fna   chrPltd.unlocalized.scaf.fna   GC_calculator.ipynb\n",
      " chr3.fna   fix_GC_content.md             'GCF_001433935.1 O sativa.zip'\n",
      " chr4.fna   GCA_002189035.1.zip            unplaced.scaf.fna\n"
     ]
    }
   ],
   "source": [
    "ls"
   ]
  },
  {
   "cell_type": "markdown",
   "metadata": {},
   "source": [
    "There's something funny with my calculation... it should match the ones in NCBI\n",
    "\n",
    "Can you figure out what's wrong?"
   ]
  },
  {
   "cell_type": "code",
   "execution_count": 4,
   "metadata": {},
   "outputs": [],
   "source": [
    "def gc_calculator(data):\n",
    "    \"\"\"Calculates the total GC content\n",
    "\n",
    "    Parameters\n",
    "    ---\n",
    "\n",
    "    data: dict\n",
    "        A dictionary with key=records' labels, values=sequences\n",
    "\n",
    "    Returns:\n",
    "    ---\n",
    "\n",
    "    record_max_gc: str\n",
    "        The label of the sequence with the highest gc content\n",
    "    total_gc: float\n",
    "        The percentage of gc content for all data\n",
    "    \"\"\"\n",
    "\n",
    "    # counters for total gc, atgc\n",
    "    gc = 0\n",
    "    atgc = 0\n",
    "\n",
    "    # counters for gc, atgc per record\n",
    "    record_gc = 0\n",
    "    record_atgc = 0\n",
    "\n",
    "    label_max_gc = \"\" # label of sequence with highest gc percentage\n",
    "    max_gc_record = 0 # keeps the highest gc percentage per record\n",
    "\n",
    "    # get both key and value\n",
    "    for label, sequence in data.items():\n",
    "        atgc += len(sequence)\n",
    "        record_gc = 0\n",
    "        \n",
    "        for char in sequence:\n",
    "            if char.lower() in {\"g\", \"c\"}:\n",
    "                gc += 1\n",
    "                record_gc += 1\n",
    "            else:\n",
    "                atgc += 1\n",
    "\n",
    "        # Substitute label_max_gc if better gc found\n",
    "        if record_gc > max_gc_record:\n",
    "            max_gc_record = record_gc\n",
    "            label_max_gc = label\n",
    "        \n",
    "\n",
    "    return label_max_gc, gc/atgc"
   ]
  },
  {
   "cell_type": "markdown",
   "metadata": {},
   "source": [
    "Parsing took more than half an hour on my machine, but a friend of mine can do this in a couple of seconds! How can I speed things up? If I do this on a larger genome, it will never end!"
   ]
  },
  {
   "cell_type": "code",
   "execution_count": 5,
   "metadata": {},
   "outputs": [],
   "source": [
    "def parse_file(filename, data):\n",
    "    \"\"\"Parses a fasta file with a single record\n",
    "\n",
    "    Parameters:\n",
    "    ---\n",
    "\n",
    "    filename: Path\n",
    "        The path to a fasta file\n",
    "\n",
    "    data: dict\n",
    "        A dictionary where label, sequence will be stored\n",
    "\n",
    "    Returns:\n",
    "    ---\n",
    "    \n",
    "    data: dict\n",
    "        The updated dictionary\n",
    "    \"\"\"\n",
    "\n",
    "    label = \"\"\n",
    "\n",
    "    with open(filename, \"r\") as f:\n",
    "        all_lines = f.readlines()\n",
    "\n",
    "    # First line is the label. Also, remove '>' symbol\n",
    "    label = all_lines[0][1:]\n",
    "\n",
    "    # label shouldn't be repeated\n",
    "    data[label] = \"\"\n",
    "    for line in all_lines[1:]:\n",
    "        data[label] += line\n",
    "\n",
    "    return data"
   ]
  },
  {
   "cell_type": "code",
   "execution_count": 6,
   "metadata": {},
   "outputs": [],
   "source": [
    "def main():\n",
    "    data = {}\n",
    "\n",
    "    # obtain the paths to every file with .fna extension\n",
    "    print(\"Parsing fasta files\")\n",
    "    for fasta in Path(\"./\").glob(\"*.fna\"):\n",
    "        print(fasta.stem)\n",
    "        data = parse_file(fasta, data)\n",
    "\n",
    "    # get the gc numbers\n",
    "    print(\"\\nCalculating gc percentage values...\\n\")\n",
    "    record_max_gc, total_gc_percentage = gc_calculator(data)\n",
    "\n",
    "    # Print results:\n",
    "    print(f\"Sequence with max GC percentage: {record_max_gc}\")\n",
    "    print(f\"Genome GC content: {total_gc_percentage}\")"
   ]
  },
  {
   "cell_type": "code",
   "execution_count": 7,
   "metadata": {},
   "outputs": [
    {
     "name": "stdout",
     "output_type": "stream",
     "text": [
      "Parsing fasta files\n",
      "chr1\n",
      "chr3\n",
      "chrMT.unlocalized.scaf\n",
      "chrPltd.unlocalized.scaf\n",
      "unplaced.scaf\n"
     ]
    }
   ],
   "source": [
    "if __name__ == \"__main__\":\n",
    "    main()"
   ]
  }
 ],
 "metadata": {
  "kernelspec": {
   "display_name": "Python 3.9.5 ('base')",
   "language": "python",
   "name": "python3"
  },
  "language_info": {
   "codemirror_mode": {
    "name": "ipython",
    "version": 3
   },
   "file_extension": ".py",
   "mimetype": "text/x-python",
   "name": "python",
   "nbconvert_exporter": "python",
   "pygments_lexer": "ipython3",
   "version": "3.9.13"
  },
  "orig_nbformat": 4,
  "vscode": {
   "interpreter": {
    "hash": "ff1b15eee6eea6675cd8a103f478cf06927b2a1fed524422410333e11ae52555"
   }
  }
 },
 "nbformat": 4,
 "nbformat_minor": 2
}
