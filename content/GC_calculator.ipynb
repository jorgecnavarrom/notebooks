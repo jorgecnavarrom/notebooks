{
 "cells": [
  {
   "cell_type": "markdown",
   "metadata": {},
   "source": [
    "# The GC calculator\n",
    "\n",
    "```\n",
    "I downloaded the genome of *Utricularia gibba* (humped bladderwort) from [NCBI](https://www.ncbi.nlm.nih.gov/data-hub/genome/GCA_002189035.1/) and decompressed it. The genome has one file per chromosome (e.g. \"chr1.fna\"). You can download the data for yourself to take a look!\n",
    "\n",
    "There are two goals for this code:\n",
    "* Get the label of the sequence with the largest percentage of GC content\n",
    "* Calculate the GC percentage of the whole genome\n",
    "\n",
    "However, there are a couple of issues. Can you help me fix the code?\n",
    "```\n",
    "\n",
    "Use the controls above to run blocks of code. Let's take a look at each section:"
   ]
  },
  {
   "cell_type": "markdown",
   "metadata": {},
   "source": [
    "First the imports. Here I will only import the `Path` class to make it easier to find the fasta files"
   ]
  },
  {
   "cell_type": "code",
   "execution_count": null,
   "metadata": {},
   "outputs": [],
   "source": [
    "from pathlib import Path"
   ]
  },
  {
   "cell_type": "markdown",
   "metadata": {},
   "source": [
    "## `parse_file`\n",
    "\n",
    "Currently, using this function takes more than 4 hours. How can we speed this up? See the \"[Tips and Tricks](https://brightspace.wur.nl/d2l/le/content/190722/viewContent/796144/View)\" module in Brightspace.\n",
    "\n",
    "Additionally, make sure that the data is [correctly read](https://brightspace.wur.nl/d2l/le/content/190722/viewContent/814684/View) into the data structure, otherwise it can cause issues later on when you need to process it!"
   ]
  },
  {
   "cell_type": "code",
   "execution_count": null,
   "metadata": {},
   "outputs": [],
   "source": [
    "def parse_file(filename, data):\n",
    "    \"\"\"Parses a fasta file with a single record\n",
    "\n",
    "    Parameters:\n",
    "    ---\n",
    "\n",
    "    filename: Path\n",
    "        The path to a fasta file\n",
    "\n",
    "    data: dict\n",
    "        A dictionary where label, sequence will be stored\n",
    "\n",
    "    Returns:\n",
    "    ---\n",
    "    \n",
    "    data: dict\n",
    "        The updated dictionary\n",
    "    \"\"\"\n",
    "\n",
    "    label = \"\"\n",
    "\n",
    "    with open(filename, \"r\") as f:\n",
    "        all_lines = f.readlines()\n",
    "\n",
    "    # First line is the label. Also, remove '>' symbol\n",
    "    label = all_lines[0][1:]\n",
    "\n",
    "    # label shouldn't be repeated\n",
    "    data[label] = \"\"\n",
    "    for line in all_lines[1:]:\n",
    "        data[label] += line\n",
    "\n",
    "    return data"
   ]
  },
  {
   "cell_type": "markdown",
   "metadata": {},
   "source": [
    "## `gc_calculator`\n",
    "\n",
    "Next, calculation of the GC content. The numbers should match the ones on the [NCBI genome page](https://www.ncbi.nlm.nih.gov/data-hub/genome/GCA_002189035.1/). What is wrong?\n",
    "\n",
    "Also, the label of the sequence with the highest GC content is also incorrect. Can you spot the error?"
   ]
  },
  {
   "cell_type": "code",
   "execution_count": null,
   "metadata": {},
   "outputs": [],
   "source": [
    "def gc_calculator(data):\n",
    "    \"\"\"Calculates the total GC content\n",
    "\n",
    "    Parameters\n",
    "    ---\n",
    "\n",
    "    data: dict\n",
    "        A dictionary with key=records' labels, values=sequences\n",
    "\n",
    "    Returns:\n",
    "    ---\n",
    "\n",
    "    record_max_gc: str\n",
    "        The label of the sequence with the highest gc content\n",
    "    total_gc: float\n",
    "        The percentage of gc content for all data\n",
    "    \"\"\"\n",
    "\n",
    "    # counters for total gc, atgc\n",
    "    gc = 0\n",
    "    atgc = 0\n",
    "\n",
    "    # counters for gc, atgc per record\n",
    "    record_gc = 0\n",
    "    record_atgc = 0\n",
    "\n",
    "    label_max_gc = \"\" # label of sequence with highest gc percentage\n",
    "    max_gc_record = 0 # keeps the highest gc percentage per record\n",
    "\n",
    "    # get both key and value\n",
    "    for label, sequence in data.items():\n",
    "        atgc += len(sequence)\n",
    "        record_gc = 0\n",
    "        \n",
    "        for char in sequence:\n",
    "            if char.lower() in {\"g\", \"c\"}:\n",
    "                gc += 1\n",
    "                record_gc += 1\n",
    "            else:\n",
    "                atgc += 1\n",
    "\n",
    "        # Substitute label_max_gc if better gc found\n",
    "        if record_gc > max_gc_record:\n",
    "            max_gc_record = record_gc\n",
    "            label_max_gc = label\n",
    "        \n",
    "\n",
    "    return label_max_gc, gc/atgc"
   ]
  },
  {
   "cell_type": "markdown",
   "metadata": {},
   "source": [
    "## `main`\n",
    "\n",
    "The `main` function divides the task in three major blocks: reading the data, processing it, and output of requested information.\n",
    "\n",
    "### Think:\n",
    "\n",
    "A dictionary was chosen as the data structure to hold the data. What data structure would you choose? See some options [here](https://brightspace.wur.nl/d2l/le/content/190722/viewContent/816822/View)."
   ]
  },
  {
   "cell_type": "code",
   "execution_count": null,
   "metadata": {},
   "outputs": [],
   "source": [
    "def main():\n",
    "    data = {}\n",
    "\n",
    "    # obtain the paths to every file with .fna extension\n",
    "    print(\"Parsing fasta files:\")\n",
    "    for fasta in sorted(Path(\"./\").glob(\"*.fna\")):\n",
    "        print(fasta.stem)\n",
    "        data = parse_file(fasta, data)\n",
    "\n",
    "    # get the gc numbers\n",
    "    print(\"\\nCalculating gc percentage values...\\n\")\n",
    "    record_max_gc, total_gc_percentage = gc_calculator(data)\n",
    "\n",
    "    # Print results:\n",
    "    print(f\"Sequence with max GC percentage: {record_max_gc}\")\n",
    "    print(f\"Genome GC content: {total_gc_percentage}\")"
   ]
  },
  {
   "cell_type": "markdown",
   "metadata": {},
   "source": [
    "### `__main__`\n",
    "\n",
    "Finally, the entry point for the `main` function. See some videos about the importance of this section:\n",
    "* [You should put this in all your Python scripts | if __name__ == '__main__':](https://www.youtube.com/watch?v=g_wlZ9IhbTs)\n",
    "* [Python Tutorial: if __name__ == '__main__'](https://www.youtube.com/watch?v=sugvnHA7ElY)\n",
    "* [What is Python's Main Function Useful For?](https://www.youtube.com/watch?v=lVUOrPunRxQ)"
   ]
  },
  {
   "cell_type": "code",
   "execution_count": null,
   "metadata": {},
   "outputs": [],
   "source": [
    "if __name__ == \"__main__\":\n",
    "    main()"
   ]
  }
 ],
 "metadata": {
  "kernelspec": {
   "display_name": "Python 3.9.5 ('base')",
   "language": "python",
   "name": "python3"
  },
  "language_info": {
   "codemirror_mode": {
    "name": "ipython",
    "version": 3
   },
   "file_extension": ".py",
   "mimetype": "text/x-python",
   "name": "python",
   "nbconvert_exporter": "python",
   "pygments_lexer": "ipython3",
   "version": "3.9.13"
  },
  "orig_nbformat": 4,
  "vscode": {
   "interpreter": {
    "hash": "ff1b15eee6eea6675cd8a103f478cf06927b2a1fed524422410333e11ae52555"
   }
  }
 },
 "nbformat": 4,
 "nbformat_minor": 2
}
